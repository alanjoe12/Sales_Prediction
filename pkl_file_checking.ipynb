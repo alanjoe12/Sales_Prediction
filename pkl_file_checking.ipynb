{
 "cells": [
  {
   "cell_type": "code",
   "execution_count": 1,
   "id": "e6fd95b5",
   "metadata": {},
   "outputs": [],
   "source": [
    "import pickle\n",
    "import numpy as np\n",
    "import sklearn"
   ]
  },
  {
   "cell_type": "code",
   "execution_count": 7,
   "id": "97c8331b",
   "metadata": {},
   "outputs": [],
   "source": [
    "Item_Weight = 9.30\n",
    "Item_Fat_Content = 0\n",
    "Item_Visibility = 0.016047\n",
    "Item_Type = 4\n",
    "Item_MRP = 249.8092\n",
    "Outlet_Size = 1\n",
    "Outlet_Location_Type = 0\n",
    "Outlet_Type = 1\n",
    "Outlet_Years = 22\n",
    "Item_Type_Combined = 1"
   ]
  },
  {
   "cell_type": "code",
   "execution_count": 8,
   "id": "df0f137d",
   "metadata": {},
   "outputs": [],
   "source": [
    "x = np.array([[Item_Weight,Item_Fat_Content,Item_Visibility,Item_Type,Item_MRP,Outlet_Size,Outlet_Location_Type,Outlet_Type,Outlet_Years,Item_Type_Combined]])"
   ]
  },
  {
   "cell_type": "code",
   "execution_count": 9,
   "id": "d9d8b211",
   "metadata": {},
   "outputs": [
    {
     "data": {
      "text/plain": [
       "array([[9.300000e+00, 0.000000e+00, 1.604700e-02, 4.000000e+00,\n",
       "        2.498092e+02, 1.000000e+00, 0.000000e+00, 1.000000e+00,\n",
       "        2.200000e+01, 1.000000e+00]])"
      ]
     },
     "execution_count": 9,
     "metadata": {},
     "output_type": "execute_result"
    }
   ],
   "source": [
    "x"
   ]
  },
  {
   "cell_type": "code",
   "execution_count": 10,
   "id": "8a901941",
   "metadata": {},
   "outputs": [],
   "source": [
    "model = pickle.load(open(\"sales.pkl\",'rb'))"
   ]
  },
  {
   "cell_type": "code",
   "execution_count": 11,
   "id": "5951543a",
   "metadata": {},
   "outputs": [
    {
     "name": "stderr",
     "output_type": "stream",
     "text": [
      "c:\\users\\user\\appdata\\local\\programs\\python\\python39\\lib\\site-packages\\sklearn\\base.py:445: UserWarning: X does not have valid feature names, but LinearRegression was fitted with feature names\n",
      "  warnings.warn(\n"
     ]
    }
   ],
   "source": [
    "y_predict = model.predict(x)"
   ]
  },
  {
   "cell_type": "code",
   "execution_count": 12,
   "id": "bb06ba78",
   "metadata": {},
   "outputs": [
    {
     "data": {
      "text/plain": [
       "array([4283.91216295])"
      ]
     },
     "execution_count": 12,
     "metadata": {},
     "output_type": "execute_result"
    }
   ],
   "source": [
    "y_predict"
   ]
  },
  {
   "cell_type": "code",
   "execution_count": null,
   "id": "a4d27f33",
   "metadata": {},
   "outputs": [],
   "source": []
  }
 ],
 "metadata": {
  "kernelspec": {
   "display_name": "Python 3 (ipykernel)",
   "language": "python",
   "name": "python3"
  },
  "language_info": {
   "codemirror_mode": {
    "name": "ipython",
    "version": 3
   },
   "file_extension": ".py",
   "mimetype": "text/x-python",
   "name": "python",
   "nbconvert_exporter": "python",
   "pygments_lexer": "ipython3",
   "version": "3.9.6"
  }
 },
 "nbformat": 4,
 "nbformat_minor": 5
}
