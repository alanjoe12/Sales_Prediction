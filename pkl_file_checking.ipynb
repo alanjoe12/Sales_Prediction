{
 "cells": [
  {
   "cell_type": "code",
   "execution_count": 1,
   "id": "e6fd95b5",
   "metadata": {},
   "outputs": [],
   "source": [
    "import pickle\n",
    "import numpy as np\n",
    "import sklearn"
   ]
  },
  {
   "cell_type": "code",
   "execution_count": null,
   "id": "97c8331b",
   "metadata": {},
   "outputs": [],
   "source": [
    "#Item_Weight = 9.30\n",
    "#Item_Fat_Content = 0\n",
    "#Item_Visibility = 0.016047\n",
    "#Item_Type = 4\n",
    "#Item_MRP = 249.8092\n",
    "#Outlet_Size = 1\n",
    "#Outlet_Location_Type = 0\n",
    "#Outlet_Type = 1\n",
    "#Outlet_Years = 22\n",
    "#Item_Type_Combined = 1"
   ]
  },
  {
   "cell_type": "code",
   "execution_count": 2,
   "id": "3a94b414",
   "metadata": {},
   "outputs": [],
   "source": [
    "Item_Weight   = 9.30           \n",
    "Item_Visibility = 0.016047         \n",
    "Item_MRP    = 249.8092 \n",
    "Outlet_Years = 22\n",
    "Item_Fat_Content_0    = 0      \n",
    "Item_Fat_Content_1    = 1      \n",
    "Item_Type_0   = 0             \n",
    "Item_Type_1   = 0               \n",
    "Item_Type_2   = 0               \n",
    "Item_Type_3   = 0               \n",
    "Item_Type_4   = 0               \n",
    "Item_Type_5   = 1             \n",
    "Item_Type_6   = 0                \n",
    "Item_Type_7   = 0                \n",
    "Item_Type_8   = 0                \n",
    "Item_Type_9   = 0               \n",
    "Item_Type_10  = 0                \n",
    "Item_Type_11  = 0                \n",
    "Item_Type_12  = 0                \n",
    "Item_Type_13  = 0                \n",
    "Item_Type_14  = 0                \n",
    "Item_Type_15  = 0                \n",
    "Outlet_Location_Type_0    = 0  \n",
    "Outlet_Location_Type_1    = 1  \n",
    "Outlet_Location_Type_2    = 0 \n",
    "Outlet_Size_0    = 0          \n",
    "Outlet_Size_1     = 1          \n",
    "Outlet_Size_2    = 0           \n",
    "Outlet_Type_0    = 0           \n",
    "Outlet_Type_1    = 1           \n",
    "Outlet_Type_2    = 0            \n",
    "Outlet_Type_3    = 0            \n",
    "Item_Type_Combined_0    = 0        \n",
    "Item_Type_Combined_1    = 1   \n",
    "Item_Type_Combined_2    = 0       \n",
    "Outlet_0      = 0              \n",
    "Outlet_1      = 0              \n",
    "Outlet_2      = 0              \n",
    "Outlet_3     = 0              \n",
    "Outlet_4      = 0             \n",
    "Outlet_5      = 0            \n",
    "Outlet_6     = 0               \n",
    "Outlet_7    = 0               \n",
    "Outlet_8    = 0                \n",
    "Outlet_9  = 1                  "
   ]
  },
  {
   "cell_type": "code",
   "execution_count": 4,
   "id": "df0f137d",
   "metadata": {},
   "outputs": [],
   "source": [
    "x = np.array([[Item_Weight,Item_Visibility,Item_MRP,Outlet_Years,Item_Fat_Content_0,Item_Fat_Content_1          \n",
    ",Item_Type_0                 \n",
    ",Item_Type_1                \n",
    ",Item_Type_2                \n",
    ",Item_Type_3                \n",
    ",Item_Type_4                \n",
    ",Item_Type_5                \n",
    ",Item_Type_6                 \n",
    ",Item_Type_7                 \n",
    ",Item_Type_8                 \n",
    ",Item_Type_9                \n",
    ",Item_Type_10                \n",
    ",Item_Type_11                \n",
    ",Item_Type_12                \n",
    ",Item_Type_13                \n",
    ",Item_Type_14                \n",
    ",Item_Type_15                \n",
    ",Outlet_Location_Type_0      \n",
    ",Outlet_Location_Type_1      \n",
    ",Outlet_Location_Type_2     \n",
    ",Outlet_Size_0               \n",
    ",Outlet_Size_1               \n",
    ",Outlet_Size_2               \n",
    ",Outlet_Type_0               \n",
    ",Outlet_Type_1               \n",
    ",Outlet_Type_2               \n",
    ",Outlet_Type_3               \n",
    ",Item_Type_Combined_0        \n",
    ",Item_Type_Combined_1       \n",
    ",Item_Type_Combined_2        \n",
    ",Outlet_0                    \n",
    ",Outlet_1                    \n",
    ",Outlet_2                    \n",
    ",Outlet_3                   \n",
    ",Outlet_4                   \n",
    ",Outlet_5                  \n",
    ",Outlet_6                    \n",
    ",Outlet_7                   \n",
    ",Outlet_8                    \n",
    ",Outlet_9]])"
   ]
  },
  {
   "cell_type": "code",
   "execution_count": 5,
   "id": "d9d8b211",
   "metadata": {},
   "outputs": [
    {
     "data": {
      "text/plain": [
       "array([[9.300000e+00, 1.604700e-02, 2.498092e+02, 2.200000e+01,\n",
       "        0.000000e+00, 1.000000e+00, 0.000000e+00, 0.000000e+00,\n",
       "        0.000000e+00, 0.000000e+00, 0.000000e+00, 1.000000e+00,\n",
       "        0.000000e+00, 0.000000e+00, 0.000000e+00, 0.000000e+00,\n",
       "        0.000000e+00, 0.000000e+00, 0.000000e+00, 0.000000e+00,\n",
       "        0.000000e+00, 0.000000e+00, 0.000000e+00, 1.000000e+00,\n",
       "        0.000000e+00, 0.000000e+00, 1.000000e+00, 0.000000e+00,\n",
       "        0.000000e+00, 1.000000e+00, 0.000000e+00, 0.000000e+00,\n",
       "        0.000000e+00, 1.000000e+00, 0.000000e+00, 0.000000e+00,\n",
       "        0.000000e+00, 0.000000e+00, 0.000000e+00, 0.000000e+00,\n",
       "        0.000000e+00, 0.000000e+00, 0.000000e+00, 0.000000e+00,\n",
       "        1.000000e+00]])"
      ]
     },
     "execution_count": 5,
     "metadata": {},
     "output_type": "execute_result"
    }
   ],
   "source": [
    "x"
   ]
  },
  {
   "cell_type": "code",
   "execution_count": 6,
   "id": "8a901941",
   "metadata": {},
   "outputs": [],
   "source": [
    "model = pickle.load(open(\"sales.pkl\",'rb'))"
   ]
  },
  {
   "cell_type": "code",
   "execution_count": 7,
   "id": "5951543a",
   "metadata": {},
   "outputs": [
    {
     "name": "stderr",
     "output_type": "stream",
     "text": [
      "c:\\users\\user\\appdata\\local\\programs\\python\\python39\\lib\\site-packages\\sklearn\\base.py:445: UserWarning: X does not have valid feature names, but LinearRegression was fitted with feature names\n",
      "  warnings.warn(\n"
     ]
    }
   ],
   "source": [
    "\n",
    "y_pred_lr = model.predict(x)"
   ]
  },
  {
   "cell_type": "code",
   "execution_count": 8,
   "id": "bb06ba78",
   "metadata": {},
   "outputs": [
    {
     "data": {
      "text/plain": [
       "array([4242.92441061])"
      ]
     },
     "execution_count": 8,
     "metadata": {},
     "output_type": "execute_result"
    }
   ],
   "source": [
    "y_pred_lr"
   ]
  },
  {
   "cell_type": "code",
   "execution_count": null,
   "id": "a4d27f33",
   "metadata": {},
   "outputs": [],
   "source": []
  }
 ],
 "metadata": {
  "kernelspec": {
   "display_name": "Python 3 (ipykernel)",
   "language": "python",
   "name": "python3"
  },
  "language_info": {
   "codemirror_mode": {
    "name": "ipython",
    "version": 3
   },
   "file_extension": ".py",
   "mimetype": "text/x-python",
   "name": "python",
   "nbconvert_exporter": "python",
   "pygments_lexer": "ipython3",
   "version": "3.9.6"
  }
 },
 "nbformat": 4,
 "nbformat_minor": 5
}
